{
 "cells": [
  {
   "cell_type": "code",
   "execution_count": null,
   "metadata": {},
   "outputs": [],
   "source": []
  },
  {
   "cell_type": "code",
   "execution_count": null,
   "metadata": {},
   "outputs": [],
   "source": [
    "slice_4 = '/bmrNAS/people/arjun/msk_seg_networks/non-downsampled/unet_3d/2019-03-28-16-13-06'\n",
    "slice_8 = '/bmrNAS/people/arjun/msk_seg_networks/non-downsampled/unet_3d/2019-04-01-18-05-26'\n",
    "slice_16 = '/bmrNAS/people/arjun/msk_seg_networks/non-downsampled/unet_3d/2019-04-14-23-23-06'\n",
    "slice_32 = '/bmrNAS/people/arjun/msk_seg_networks/non-downsampled/unet_3d/2019-04-15-11-39-10'\n",
    "\n",
    "original_test = 'test_results'\n",
    "downsampled_test = 'test_results-downsampled'"
   ]
  }
 ],
 "metadata": {
  "kernelspec": {
   "display_name": "Python 3",
   "language": "python",
   "name": "python3"
  },
  "language_info": {
   "codemirror_mode": {
    "name": "ipython",
    "version": 3
   },
   "file_extension": ".py",
   "mimetype": "text/x-python",
   "name": "python",
   "nbconvert_exporter": "python",
   "pygments_lexer": "ipython3",
   "version": "3.6.5"
  }
 },
 "nbformat": 4,
 "nbformat_minor": 2
}
