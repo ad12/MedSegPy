{
 "cells": [
  {
   "cell_type": "code",
   "execution_count": 1,
   "metadata": {},
   "outputs": [
    {
     "name": "stderr",
     "output_type": "stream",
     "text": [
      "/home/arjundd/anaconda3/envs/tf_36/lib/python3.6/importlib/_bootstrap.py:205: RuntimeWarning: numpy.dtype size changed, may indicate binary incompatibility. Expected 96, got 88\n",
      "  return f(*args, **kwds)\n"
     ]
    }
   ],
   "source": [
    "import sys\n",
    "sys.path.insert(0, '../')\n",
    "\n",
    "import matplotlib\n",
    "%matplotlib inline\n",
    "import matplotlib.pyplot as plt\n",
    "import seaborn as sns\n",
    "fsize = 12\n",
    "params = {'legend.fontsize': fsize*0.925,          \n",
    "          'axes.labelsize': fsize,\n",
    "          'axes.titlesize':fsize*1.25,\n",
    "          'xtick.labelsize':fsize*0.925,\n",
    "          'ytick.labelsize':fsize*0.925}\n",
    "sns.set(palette='pastel', rc=params)\n",
    "\n",
    "\n",
    "import os\n",
    "import numpy as np\n",
    "import scipy.io as sio\n",
    "\n",
    "import seaborn as sns\n",
    "\n",
    "from utils import io_utils\n",
    "from analysis import analysis_funcs as af\n",
    "from analysis import stats\n",
    "from analysis import exp_filepaths\n",
    "import pandas as pd\n",
    "pd.set_option('display.max_colwidth', 50)\n",
    "pd.options.display.float_format = '{:,.4f}'.format"
   ]
  },
  {
   "cell_type": "code",
   "execution_count": 2,
   "metadata": {},
   "outputs": [],
   "source": [
    "cv_base_path = '/bmrNAS/people/arjun/msk_seg_networks/control_exps/unet_2d/2019-03-10-10-45-24/cv-exp-%03d/test_results'\n",
    "holdout_path = exp_filepaths.BASELINE_UNET"
   ]
  },
  {
   "cell_type": "code",
   "execution_count": 3,
   "metadata": {},
   "outputs": [],
   "source": [
    "# load data\n",
    "holdout_metrics = io_utils.load_pik(os.path.join(holdout_path, 'metrics.dat'))\n",
    "\n",
    "ds = [io_utils.load_pik(os.path.join(cv_base_path % i, 'metrics.dat')) for i in range(1,7)]\n",
    "cv_metrics = {}\n",
    "for k in ds[0].keys():\n",
    "    cv_metrics[k] = []\n",
    "    for d in ds:\n",
    "        cv_metrics[k].extend(d[k])\n",
    "        \n",
    "cv_exps = {'cv': cv_metrics, 'holdout': holdout_metrics}\n",
    "ordered_keys = ['cv', 'holdout']"
   ]
  },
  {
   "cell_type": "code",
   "execution_count": 8,
   "metadata": {},
   "outputs": [
    {
     "data": {
      "image/png": "[encoded data removed]",
      "text/plain": [
       "<Figure size 432x288 with 1 Axes>"
      ]
     },
     "metadata": {
      "needs_background": "light"
     },
     "output_type": "display_data"
    },
    {
     "data": {
      "text/html": [
       "<div>\n",
       "<style scoped>\n",
       "    .dataframe tbody tr th:only-of-type {\n",
       "        vertical-align: middle;\n",
       "    }\n",
       "\n",
       "    .dataframe tbody tr th {\n",
       "        vertical-align: top;\n",
       "    }\n",
       "\n",
       "    .dataframe thead th {\n",
       "        text-align: right;\n",
       "    }\n",
       "</style>\n",
       "<table border=\"1\" class=\"dataframe\">\n",
       "  <thead>\n",
       "    <tr style=\"text-align: right;\">\n",
       "      <th></th>\n",
       "      <th>cv</th>\n",
       "      <th>holdout</th>\n",
       "    </tr>\n",
       "  </thead>\n",
       "  <tbody>\n",
       "    <tr>\n",
       "      <th>dsc</th>\n",
       "      <td>$0.8783\\pm0.097$</td>\n",
       "      <td>$0.883\\pm0.033$</td>\n",
       "    </tr>\n",
       "    <tr>\n",
       "      <th>voe</th>\n",
       "      <td>$0.209\\pm0.094$</td>\n",
       "      <td>$0.208\\pm0.05$</td>\n",
       "    </tr>\n",
       "    <tr>\n",
       "      <th>cv</th>\n",
       "      <td>$0.0331\\pm0.08$</td>\n",
       "      <td>$0.0244\\pm0.027$</td>\n",
       "    </tr>\n",
       "    <tr>\n",
       "      <th>assd</th>\n",
       "      <td>$0.4071\\pm1.372$</td>\n",
       "      <td>$0.3544\\pm0.518$</td>\n",
       "    </tr>\n",
       "  </tbody>\n",
       "</table>\n",
       "</div>"
      ],
      "text/plain": [
       "                    cv           holdout\n",
       "dsc   $0.8783\\pm0.097$   $0.883\\pm0.033$\n",
       "voe    $0.209\\pm0.094$    $0.208\\pm0.05$\n",
       "cv     $0.0331\\pm0.08$  $0.0244\\pm0.027$\n",
       "assd  $0.4071\\pm1.372$  $0.3544\\pm0.518$"
      ]
     },
     "execution_count": 8,
     "metadata": {},
     "output_type": "execute_result"
    }
   ],
   "source": [
    "# plot validation losses\n",
    "def plot_metrics(metrics):\n",
    "    count = 0\n",
    "    t_mean = []\n",
    "    t_error = []\n",
    "\n",
    "    for m in metrics:\n",
    "        m_mean = []\n",
    "        m_error = []\n",
    "        for k in ordered_keys:\n",
    "            exp_metrics = cv_exps[k]\n",
    "            data = exp_metrics[m]\n",
    "\n",
    "            m_mean.append(np.mean(data))\n",
    "            m_error.append(np.std(data))\n",
    "\n",
    "        t_mean.append(m_mean)\n",
    "        t_error.append(m_error)\n",
    "\n",
    "    exp_means = pd.DataFrame(t_mean, index=metrics, columns=ordered_keys)\n",
    "    exp_stds = pd.DataFrame(t_error, index=metrics, columns=ordered_keys)\n",
    "    \n",
    "    af.display_bar_graph(exp_means, exp_stds)\n",
    "    \n",
    "    df1 = exp_means.round(4).astype(str)\n",
    "    df2 = exp_stds.round(3).astype(str)\n",
    "    \n",
    "    return '$'+df1 + '\\pm' + df2 +'$'\n",
    "    \n",
    "dfs = []\n",
    "dfs.append(plot_metrics(['dsc']))\n",
    "dfs.append(plot_metrics(['voe', 'cv']))\n",
    "dfs.append(plot_metrics(['assd']))\n",
    "\n",
    "df = pd.concat(dfs, axis=0)\n",
    "df.style.set_properties(**{'width': '300px'})\n",
    "#display(df)\n",
    "\n",
    "\n",
    "plot_metrics(['dsc', 'voe', 'cv', 'assd'])"
   ]
  },
  {
   "cell_type": "code",
   "execution_count": null,
   "metadata": {},
   "outputs": [],
   "source": []
  }
 ],
 "metadata": {
  "kernelspec": {
   "display_name": "Python 3",
   "language": "python",
   "name": "python3"
  },
  "language_info": {
   "codemirror_mode": {
    "name": "ipython",
    "version": 3
   },
   "file_extension": ".py",
   "mimetype": "text/x-python",
   "name": "python",
   "nbconvert_exporter": "python",
   "pygments_lexer": "ipython3",
   "version": "3.6.2"
  }
 },
 "nbformat": 4,
 "nbformat_minor": 1
}
