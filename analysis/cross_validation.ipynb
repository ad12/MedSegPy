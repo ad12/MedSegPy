{
 "cells": [
  {
   "cell_type": "code",
   "execution_count": 1,
   "metadata": {},
   "outputs": [
    {
     "data": {
      "text/plain": [
       "'/bmrNAS/people/arjun/msk_seg_networks/analysis/cross-val'"
      ]
     },
     "execution_count": 1,
     "metadata": {},
     "output_type": "execute_result"
    }
   ],
   "source": [
    "import sys\n",
    "sys.path.insert(0, '../')\n",
    "\n",
    "import matplotlib\n",
    "%matplotlib inline\n",
    "import matplotlib.pyplot as plt\n",
    "import seaborn as sns\n",
    "fsize = 18\n",
    "params = {'legend.fontsize': fsize*0.925,          \n",
    "          'axes.labelsize': fsize*1.2,\n",
    "          'axes.titlesize':fsize*1.5,\n",
    "          'xtick.labelsize':fsize,\n",
    "          'ytick.labelsize':fsize,\n",
    "          'savefig.dpi': 1000}\n",
    "sns.set(palette='pastel', rc=params)\n",
    "\n",
    "import os\n",
    "import numpy as np\n",
    "import scipy.io as sio\n",
    "\n",
    "import seaborn as sns\n",
    "\n",
    "from utils import io_utils\n",
    "from analysis import analysis_funcs as af\n",
    "from analysis import stats\n",
    "from analysis import exp_filepaths\n",
    "import pandas as pd\n",
    "\n",
    "from pystats.pystats import stats as pyss\n",
    "from pystats.pystats.graph import bar as pysb\n",
    "\n",
    "pd.set_option('display.max_colwidth', 50)\n",
    "pd.options.display.float_format = '{:,.4f}'.format\n",
    "\n",
    "base_path = '/bmrNAS/people/arjun/msk_seg_networks/analysis/cross-val'\n",
    "io_utils.check_dir(base_path)"
   ]
  },
  {
   "cell_type": "code",
   "execution_count": 2,
   "metadata": {},
   "outputs": [],
   "source": [
    "cv1_base_path = '/bmrNAS/people/arjun/msk_seg_networks/control_exps/unet_2d/2019-03-10-10-45-24/cv-exp-%03d/test_results'\n",
    "cv2_base_path = '/bmrNAS/people/arjun/msk_seg_networks/control_exps/unet_2d/2019-03-11-00-31-04/cv-exp-%03d/test_results'\n",
    "holdout_path = exp_filepaths.BASELINE_UNET"
   ]
  },
  {
   "cell_type": "code",
   "execution_count": 3,
   "metadata": {},
   "outputs": [],
   "source": [
    "def load_cv_metrics(cv_base_path):\n",
    "    ds = [io_utils.load_pik(os.path.join(cv_base_path % i, 'metrics.dat')) for i in range(1,7)]\n",
    "    pids = [io_utils.load_pik(os.path.join(cv_base_path % i, 'fnames.dat')) for i in range(1,7)]\n",
    "    \n",
    "    cv_metrics = {}\n",
    "    for k in ds[0].keys():\n",
    "        cv_metrics[k] = []\n",
    "        for d in ds:\n",
    "            cv_metrics[k].extend(d[k])\n",
    "    \n",
    "    fnames = []\n",
    "    for k in pids:\n",
    "        fnames.extend(k)\n",
    "    \n",
    "    df = pd.DataFrame.from_dict(cv_metrics)\n",
    "    df = pd.DataFrame(df.values, index=fnames, columns=df.columns)\n",
    "    \n",
    "    return df\n",
    "    #return cv_metrics"
   ]
  },
  {
   "cell_type": "code",
   "execution_count": 4,
   "metadata": {},
   "outputs": [],
   "source": [
    "# load base cross-validation data\n",
    "cv1_metrics = load_cv_metrics(cv1_base_path)\n",
    "base_index = cv1_metrics.index\n",
    "\n",
    "# load other cross-validation data, should be reindexed to base_index\n",
    "cv2_metrics = load_cv_metrics(cv2_base_path)\n",
    "cv2_metrics = cv2_metrics.reindex(base_index)\n",
    "\n",
    "# load holdout data - reindex to cross-validation indices\n",
    "holdout_metrics = io_utils.load_pik(os.path.join(holdout_path, 'metrics.dat'))\n",
    "holdout_fnames = io_utils.load_pik(os.path.join(holdout_path, 'fnames.dat'))\n",
    "df = pd.DataFrame.from_dict(holdout_metrics)\n",
    "df = pd.DataFrame(df.values, index=holdout_fnames, columns=df.columns)\n",
    "df = df.reindex(index=base_index)\n",
    "holdout_metrics = df\n",
    "\n",
    "# organize experiments\n",
    "cv_exps = {'Holdout': holdout_metrics, 'CV-1 (k=6)': cv1_metrics, 'CV-2 (k=6)': cv2_metrics}\n",
    "ordered_keys = list(cv_exps.keys())\n",
    "\n",
    "\n",
    "metrics = {'dsc': None, 'assd': None, 'voe': None, 'cv': None}\n",
    "metrics_names = ['DSC', 'ASSD (mm)', 'VOE', 'CV']\n",
    "for m in metrics:\n",
    "    m_df = pd.DataFrame([cv_exps[k][m].values for k in ordered_keys], columns=base_index, index=ordered_keys)\n",
    "    metrics[m] = m_df\n"
   ]
  },
  {
   "cell_type": "code",
   "execution_count": 5,
   "metadata": {},
   "outputs": [
    {
     "name": "stdout",
     "output_type": "stream",
     "text": [
      "dsc:\n"
     ]
    },
    {
     "data": {
      "text/html": [
       "<div>\n",
       "<style scoped>\n",
       "    .dataframe tbody tr th:only-of-type {\n",
       "        vertical-align: middle;\n",
       "    }\n",
       "\n",
       "    .dataframe tbody tr th {\n",
       "        vertical-align: top;\n",
       "    }\n",
       "\n",
       "    .dataframe thead th {\n",
       "        text-align: right;\n",
       "    }\n",
       "</style>\n",
       "<table border=\"1\" class=\"dataframe\">\n",
       "  <thead>\n",
       "    <tr style=\"text-align: right;\">\n",
       "      <th></th>\n",
       "      <th>Holdout</th>\n",
       "      <th>CV-1 (k=6)</th>\n",
       "      <th>CV-2 (k=6)</th>\n",
       "    </tr>\n",
       "  </thead>\n",
       "  <tbody>\n",
       "    <tr>\n",
       "      <th>Holdout</th>\n",
       "      <td>-1.0000</td>\n",
       "      <td>1.0000</td>\n",
       "      <td>1.0000</td>\n",
       "    </tr>\n",
       "    <tr>\n",
       "      <th>CV-1 (k=6)</th>\n",
       "      <td>1.0000</td>\n",
       "      <td>-1.0000</td>\n",
       "      <td>1.0000</td>\n",
       "    </tr>\n",
       "    <tr>\n",
       "      <th>CV-2 (k=6)</th>\n",
       "      <td>1.0000</td>\n",
       "      <td>1.0000</td>\n",
       "      <td>-1.0000</td>\n",
       "    </tr>\n",
       "  </tbody>\n",
       "</table>\n",
       "</div>"
      ],
      "text/plain": [
       "            Holdout  CV-1 (k=6)  CV-2 (k=6)\n",
       "Holdout     -1.0000      1.0000      1.0000\n",
       "CV-1 (k=6)   1.0000     -1.0000      1.0000\n",
       "CV-2 (k=6)   1.0000      1.0000     -1.0000"
      ]
     },
     "metadata": {},
     "output_type": "display_data"
    },
    {
     "name": "stdout",
     "output_type": "stream",
     "text": [
      "\n",
      "assd:\n"
     ]
    },
    {
     "data": {
      "text/html": [
       "<div>\n",
       "<style scoped>\n",
       "    .dataframe tbody tr th:only-of-type {\n",
       "        vertical-align: middle;\n",
       "    }\n",
       "\n",
       "    .dataframe tbody tr th {\n",
       "        vertical-align: top;\n",
       "    }\n",
       "\n",
       "    .dataframe thead th {\n",
       "        text-align: right;\n",
       "    }\n",
       "</style>\n",
       "<table border=\"1\" class=\"dataframe\">\n",
       "  <thead>\n",
       "    <tr style=\"text-align: right;\">\n",
       "      <th></th>\n",
       "      <th>Holdout</th>\n",
       "      <th>CV-1 (k=6)</th>\n",
       "      <th>CV-2 (k=6)</th>\n",
       "    </tr>\n",
       "  </thead>\n",
       "  <tbody>\n",
       "    <tr>\n",
       "      <th>Holdout</th>\n",
       "      <td>-1.0000</td>\n",
       "      <td>1.0000</td>\n",
       "      <td>1.0000</td>\n",
       "    </tr>\n",
       "    <tr>\n",
       "      <th>CV-1 (k=6)</th>\n",
       "      <td>1.0000</td>\n",
       "      <td>-1.0000</td>\n",
       "      <td>1.0000</td>\n",
       "    </tr>\n",
       "    <tr>\n",
       "      <th>CV-2 (k=6)</th>\n",
       "      <td>1.0000</td>\n",
       "      <td>1.0000</td>\n",
       "      <td>-1.0000</td>\n",
       "    </tr>\n",
       "  </tbody>\n",
       "</table>\n",
       "</div>"
      ],
      "text/plain": [
       "            Holdout  CV-1 (k=6)  CV-2 (k=6)\n",
       "Holdout     -1.0000      1.0000      1.0000\n",
       "CV-1 (k=6)   1.0000     -1.0000      1.0000\n",
       "CV-2 (k=6)   1.0000      1.0000     -1.0000"
      ]
     },
     "metadata": {},
     "output_type": "display_data"
    },
    {
     "name": "stdout",
     "output_type": "stream",
     "text": [
      "\n",
      "voe:\n"
     ]
    },
    {
     "data": {
      "text/html": [
       "<div>\n",
       "<style scoped>\n",
       "    .dataframe tbody tr th:only-of-type {\n",
       "        vertical-align: middle;\n",
       "    }\n",
       "\n",
       "    .dataframe tbody tr th {\n",
       "        vertical-align: top;\n",
       "    }\n",
       "\n",
       "    .dataframe thead th {\n",
       "        text-align: right;\n",
       "    }\n",
       "</style>\n",
       "<table border=\"1\" class=\"dataframe\">\n",
       "  <thead>\n",
       "    <tr style=\"text-align: right;\">\n",
       "      <th></th>\n",
       "      <th>Holdout</th>\n",
       "      <th>CV-1 (k=6)</th>\n",
       "      <th>CV-2 (k=6)</th>\n",
       "    </tr>\n",
       "  </thead>\n",
       "  <tbody>\n",
       "    <tr>\n",
       "      <th>Holdout</th>\n",
       "      <td>-1.0000</td>\n",
       "      <td>1.0000</td>\n",
       "      <td>1.0000</td>\n",
       "    </tr>\n",
       "    <tr>\n",
       "      <th>CV-1 (k=6)</th>\n",
       "      <td>1.0000</td>\n",
       "      <td>-1.0000</td>\n",
       "      <td>1.0000</td>\n",
       "    </tr>\n",
       "    <tr>\n",
       "      <th>CV-2 (k=6)</th>\n",
       "      <td>1.0000</td>\n",
       "      <td>1.0000</td>\n",
       "      <td>-1.0000</td>\n",
       "    </tr>\n",
       "  </tbody>\n",
       "</table>\n",
       "</div>"
      ],
      "text/plain": [
       "            Holdout  CV-1 (k=6)  CV-2 (k=6)\n",
       "Holdout     -1.0000      1.0000      1.0000\n",
       "CV-1 (k=6)   1.0000     -1.0000      1.0000\n",
       "CV-2 (k=6)   1.0000      1.0000     -1.0000"
      ]
     },
     "metadata": {},
     "output_type": "display_data"
    },
    {
     "name": "stdout",
     "output_type": "stream",
     "text": [
      "\n",
      "cv:\n"
     ]
    },
    {
     "data": {
      "text/html": [
       "<div>\n",
       "<style scoped>\n",
       "    .dataframe tbody tr th:only-of-type {\n",
       "        vertical-align: middle;\n",
       "    }\n",
       "\n",
       "    .dataframe tbody tr th {\n",
       "        vertical-align: top;\n",
       "    }\n",
       "\n",
       "    .dataframe thead th {\n",
       "        text-align: right;\n",
       "    }\n",
       "</style>\n",
       "<table border=\"1\" class=\"dataframe\">\n",
       "  <thead>\n",
       "    <tr style=\"text-align: right;\">\n",
       "      <th></th>\n",
       "      <th>Holdout</th>\n",
       "      <th>CV-1 (k=6)</th>\n",
       "      <th>CV-2 (k=6)</th>\n",
       "    </tr>\n",
       "  </thead>\n",
       "  <tbody>\n",
       "    <tr>\n",
       "      <th>Holdout</th>\n",
       "      <td>-1.0000</td>\n",
       "      <td>1.0000</td>\n",
       "      <td>1.0000</td>\n",
       "    </tr>\n",
       "    <tr>\n",
       "      <th>CV-1 (k=6)</th>\n",
       "      <td>1.0000</td>\n",
       "      <td>-1.0000</td>\n",
       "      <td>1.0000</td>\n",
       "    </tr>\n",
       "    <tr>\n",
       "      <th>CV-2 (k=6)</th>\n",
       "      <td>1.0000</td>\n",
       "      <td>1.0000</td>\n",
       "      <td>-1.0000</td>\n",
       "    </tr>\n",
       "  </tbody>\n",
       "</table>\n",
       "</div>"
      ],
      "text/plain": [
       "            Holdout  CV-1 (k=6)  CV-2 (k=6)\n",
       "Holdout     -1.0000      1.0000      1.0000\n",
       "CV-1 (k=6)   1.0000     -1.0000      1.0000\n",
       "CV-2 (k=6)   1.0000      1.0000     -1.0000"
      ]
     },
     "metadata": {},
     "output_type": "display_data"
    },
    {
     "name": "stdout",
     "output_type": "stream",
     "text": [
      "\n"
     ]
    }
   ],
   "source": [
    "# kruskall-dunn analysis\n",
    "suppress_output = False\n",
    "metrics_results = {}\n",
    "for k in metrics:\n",
    "    metrics_results[k] = pyss.kruskal_wallis(metrics[k], posthoc_test='dunn', names=ordered_keys, p_adjust='bonferroni')\n",
    "\n",
    "pmats = []\n",
    "for k in metrics:\n",
    "    if not suppress_output:\n",
    "        print('%s:' % k)\n",
    "        display(metrics_results[k]['dunn'])\n",
    "        print('')\n",
    "\n",
    "    pmats.append(metrics_results[k]['dunn'])"
   ]
  },
  {
   "cell_type": "code",
   "execution_count": 14,
   "metadata": {},
   "outputs": [
    {
     "data": {
      "image/png": "[encoded data removed]",
      "text/plain": [
       "<Figure size 1440x720 with 4 Axes>"
      ]
     },
     "metadata": {
      "needs_background": "light"
     },
     "output_type": "display_data"
    }
   ],
   "source": [
    "bar_graph_kwargs = {'spacing': 0.5, 'sig_marker_size': 20, 'line_width': 3, 'sig_thresholds': [0.05, 0.01]}\n",
    "fig, axs = plt.subplots(2, 2, figsize=(20, 10))\n",
    "axs = axs.flatten()\n",
    "\n",
    "for ind, m in enumerate(metrics):\n",
    "    ax = axs[ind]\n",
    "    \n",
    "    np_mean = np.nanmean(np.asarray(metrics[m]), axis=1)\n",
    "    np_std = np.nanstd(np.asarray(metrics[m]), axis=1)\n",
    "    \n",
    "    pysb.bar(np_mean, np_std, pmats[ind], ax=ax, x_label=[metrics_names[ind]], labels=ordered_keys, **bar_graph_kwargs)\n",
    "\n",
    "plt.legend(loc='lower center', bbox_to_anchor=(-.15, -0.35), ncol=len(ordered_keys))\n",
    "#plt.legend(loc='center left', bbox_to_anchor=(1, 0.5, 0, 0))\n",
    "\n",
    "# plt.text(-0.1, 0.5, '(A)', fontsize=30,\n",
    "#             horizontalalignment='center',\n",
    "#             verticalalignment='center', transform=axs[0].transAxes)\n",
    "plt.savefig(os.path.join(base_path, 'cross-val-bar.png'), bbox_inches='tight', dpi=600)"
   ]
  },
  {
   "cell_type": "code",
   "execution_count": 36,
   "metadata": {},
   "outputs": [
    {
     "data": {
      "image/png": "[encoded data removed]",
      "text/plain": [
       "<Figure size 1080x432 with 1 Axes>"
      ]
     },
     "metadata": {
      "needs_background": "light"
     },
     "output_type": "display_data"
    }
   ],
   "source": [
    "bar_graph_kwargs = {'spacing': 0.5, 'sig_marker_size': 20, 'line_width': 3, 'sig_thresholds': [0.05, 0.01]}\n",
    "fig, axs = plt.subplots(1, 1, figsize=(15, 6))\n",
    "\n",
    "means = np.stack([np.nanmean(np.asarray(metrics[m]), axis=1) for ind, m in enumerate(metrics)], axis=1)\n",
    "stds = np.stack([np.nanstd(np.asarray(metrics[m]), axis=1) for ind, m in enumerate(metrics)], axis=1)\n",
    "\n",
    "means = pd.DataFrame(means, index=ordered_keys, columns=metrics_names).transpose()\n",
    "stds = pd.DataFrame(stds, index=ordered_keys, columns=metrics_names).transpose()\n",
    "    \n",
    "pysb.bar(means, stds, ax=axs, **bar_graph_kwargs)\n",
    "\n",
    "plt.legend(loc='lower center', bbox_to_anchor=(-.15, -0.35), ncol=len(ordered_keys))\n",
    "plt.savefig(os.path.join(base_path, 'cross-val-bar-formatted.png'), bbox_inches='tight', dpi=100)"
   ]
  },
  {
   "cell_type": "code",
   "execution_count": null,
   "metadata": {},
   "outputs": [],
   "source": []
  }
 ],
 "metadata": {
  "kernelspec": {
   "display_name": "Python 3",
   "language": "python",
   "name": "python3"
  },
  "language_info": {
   "codemirror_mode": {
    "name": "ipython",
    "version": 3
   },
   "file_extension": ".py",
   "mimetype": "text/x-python",
   "name": "python",
   "nbconvert_exporter": "python",
   "pygments_lexer": "ipython3",
   "version": "3.6.2"
  }
 },
 "nbformat": 4,
 "nbformat_minor": 1
}
