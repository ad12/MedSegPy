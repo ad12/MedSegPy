{
 "cells": [
  {
   "cell_type": "code",
   "execution_count": 1,
   "metadata": {},
   "outputs": [
    {
     "name": "stderr",
     "output_type": "stream",
     "text": [
      "/home/arjundd/anaconda3/envs/tf_36/lib/python3.6/importlib/_bootstrap.py:205: RuntimeWarning: numpy.dtype size changed, may indicate binary incompatibility. Expected 96, got 88\n",
      "  return f(*args, **kwds)\n"
     ]
    }
   ],
   "source": [
    "import sys\n",
    "sys.path.insert(0, '../')\n",
    "\n",
    "import matplotlib\n",
    "%matplotlib inline\n",
    "import matplotlib.pyplot as plt\n",
    "import seaborn as sns\n",
    "fsize = 12\n",
    "params = {'legend.fontsize': fsize*0.925,          \n",
    "          'axes.labelsize': fsize,\n",
    "          'axes.titlesize':fsize*1.25,\n",
    "          'xtick.labelsize':fsize*0.925,\n",
    "          'ytick.labelsize':fsize*0.925 }\n",
    "sns.set(palette='pastel', rc=params)\n",
    "\n",
    "\n",
    "import os\n",
    "import numpy as np\n",
    "import scipy.io as sio\n",
    "\n",
    "import seaborn as sns\n",
    "\n",
    "import utils\n",
    "from analysis import analysis_funcs as af\n",
    "from analysis import stats\n",
    "from analysis import exp_filepaths"
   ]
  },
  {
   "cell_type": "code",
   "execution_count": null,
   "metadata": {},
   "outputs": [],
   "source": [
    "# plot validation losses\n",
    "cpal = sns.color_palette(\"pastel\", 8)\n",
    "fig, ax = plt.subplots(figsize)"
   ]
  }
 ],
 "metadata": {
  "kernelspec": {
   "display_name": "Python 3",
   "language": "python",
   "name": "python3"
  },
  "language_info": {
   "codemirror_mode": {
    "name": "ipython",
    "version": 3
   },
   "file_extension": ".py",
   "mimetype": "text/x-python",
   "name": "python",
   "nbconvert_exporter": "python",
   "pygments_lexer": "ipython3",
   "version": "3.6.2"
  }
 },
 "nbformat": 4,
 "nbformat_minor": 1
}
