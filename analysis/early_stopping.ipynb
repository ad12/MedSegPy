{
 "cells": [
  {
   "cell_type": "code",
   "execution_count": 1,
   "metadata": {},
   "outputs": [
    {
     "name": "stderr",
     "output_type": "stream",
     "text": [
      "/home/arjundd/anaconda3/envs/tf_36/lib/python3.6/importlib/_bootstrap.py:205: RuntimeWarning: numpy.dtype size changed, may indicate binary incompatibility. Expected 96, got 88\n",
      "  return f(*args, **kwds)\n"
     ]
    }
   ],
   "source": [
    "import sys\n",
    "sys.path.insert(0, '../')\n",
    "\n",
    "import matplotlib\n",
    "%matplotlib inline\n",
    "import matplotlib.pyplot as plt\n",
    "import seaborn as sns\n",
    "fsize = 12\n",
    "params = {'legend.fontsize': fsize*0.925,          \n",
    "          'axes.labelsize': fsize,\n",
    "          'axes.titlesize':fsize*1.25,\n",
    "          'xtick.labelsize':fsize*0.925,\n",
    "          'ytick.labelsize':fsize*0.925 }\n",
    "sns.set(palette='pastel', rc=params)\n",
    "\n",
    "\n",
    "import os\n",
    "import numpy as np\n",
    "import scipy.io as sio\n",
    "\n",
    "import seaborn as sns\n",
    "\n",
    "from utils import io_utils\n",
    "from analysis import analysis_funcs as af\n",
    "from analysis import stats\n",
    "from analysis import exp_filepaths"
   ]
  },
  {
   "cell_type": "code",
   "execution_count": null,
   "metadata": {},
   "outputs": [],
   "source": [
    "early_stopping_exps = {'d=1e-4, p=2': exp_filepaths.EARLY_STOPPING_2_1e4,\n",
    "                       'd=1e-4, p=4': exp_filepaths.EARLY_STOPPING_4_1e4,\n",
    "                       'd=1e-4, p=6': exp_filepaths.EARLY_STOPPING_6_1e4,\n",
    "                       'd=1e-3, p=4': exp_filepaths.EARLY_STOPPING_4_1e3,\n",
    "                       'd=1e-5, p=4': exp_filepaths.EARLY_STOPPING_4_1e5}\n",
    "ordered_keys = ['d=1e-4, p=2', 'd=1e-4, p=4', 'd=1e-4, p=6', 'd=1e-3, p=4', 'd=1e-5, p=4']"
   ]
  },
  {
   "cell_type": "code",
   "execution_count": null,
   "metadata": {},
   "outputs": [],
   "source": [
    "# plot validation losses\n",
    "cpal = sns.color_palette(\"pastel\", 8)\n",
    "fig, ax = plt.subplots(1,1, figsize=(15,15))\n",
    "\n",
    "for k in ordered_keys:\n",
    "    exp_filepath = early_stopping_exps[k]\n",
    "    # load pik file\n",
    "    ind = exp_filepath.find('test_results')\n",
    "    base_folder = exp_filepath[:ind]\n",
    "    pik_path = os.path.join(base_folder, 'pik_data.dat')\n",
    "    data = io_utils.load_pik(pik_path)\n",
    "    epochs = data[0]\n",
    "    val_loss = data[2]\n",
    "    ax.plot(epochs, val_loss)"
   ]
  }
 ],
 "metadata": {
  "kernelspec": {
   "display_name": "Python 3",
   "language": "python",
   "name": "python3"
  },
  "language_info": {
   "codemirror_mode": {
    "name": "ipython",
    "version": 3
   },
   "file_extension": ".py",
   "mimetype": "text/x-python",
   "name": "python",
   "nbconvert_exporter": "python",
   "pygments_lexer": "ipython3",
   "version": "3.6.2"
  }
 },
 "nbformat": 4,
 "nbformat_minor": 1
}
