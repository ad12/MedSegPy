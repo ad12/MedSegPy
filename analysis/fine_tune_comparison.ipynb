{
 "cells": [
  {
   "cell_type": "code",
   "execution_count": null,
   "metadata": {},
   "outputs": [],
   "source": [
    "'''\n",
    "Analysis for \"Technical considerations of MSK femoral cartilage segmentation using CNNs\"\n",
    "\n",
    "@author: Arjun Desai, Stanford University\n",
    "         (c) Stanford University, 2018\n",
    "'''\n",
    "\n",
    "import sys\n",
    "sys.path.insert(0, '../')\n",
    "\n",
    "import matplotlib\n",
    "%matplotlib inline\n",
    "import matplotlib.pyplot as plt\n",
    "import seaborn as sns\n",
    "fsize = 12\n",
    "params = {'legend.fontsize': fsize*0.925,          \n",
    "          'axes.labelsize': fsize,\n",
    "          'axes.titlesize':fsize*1.25,\n",
    "          'xtick.labelsize':fsize*0.925,\n",
    "          'ytick.labelsize':fsize*0.925 }\n",
    "sns.set(palette='pastel', rc=params)\n",
    "\n",
    "\n",
    "import os\n",
    "import numpy as np\n",
    "import scipy.io as sio\n",
    "\n",
    "import seaborn as sns\n",
    "\n",
    "import utils\n",
    "from analysis import analysis_funcs as af\n",
    "from analysis import stats"
   ]
  }
 ],
 "metadata": {
  "kernelspec": {
   "display_name": "Python 3",
   "language": "python",
   "name": "python3"
  },
  "language_info": {
   "codemirror_mode": {
    "name": "ipython",
    "version": 3
   },
   "file_extension": ".py",
   "mimetype": "text/x-python",
   "name": "python",
   "nbconvert_exporter": "python",
   "pygments_lexer": "ipython3",
   "version": "3.6.2"
  }
 },
 "nbformat": 4,
 "nbformat_minor": 2
}
