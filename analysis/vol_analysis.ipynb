{
 "cells": [
  {
   "cell_type": "code",
   "execution_count": 2,
   "metadata": {},
   "outputs": [
    {
     "name": "stderr",
     "output_type": "stream",
     "text": [
      "/home/arjundd/anaconda3/envs/tf_36/lib/python3.6/importlib/_bootstrap.py:205: RuntimeWarning: numpy.dtype size changed, may indicate binary incompatibility. Expected 96, got 88\n",
      "  return f(*args, **kwds)\n"
     ]
    }
   ],
   "source": [
    "\"\"\"Analysis of Volumetric Architectures\"\"\"\n",
    "import sys\n",
    "\n",
    "import matplotlib\n",
    "%matplotlib inline\n",
    "import matplotlib.pyplot as plt\n",
    "import seaborn as sns\n",
    "fsize = 18\n",
    "params = {'legend.fontsize': fsize*0.8,          \n",
    "          'axes.labelsize': fsize*0.8,\n",
    "          'axes.titlesize':fsize,\n",
    "          'xtick.labelsize':fsize*0.8,\n",
    "          'ytick.labelsize':fsize*0.8,\n",
    "          'savefig.dpi': 1000}\n",
    "sns.set(palette='pastel', rc=params)\n",
    "\n",
    "import os\n",
    "import numpy as np\n",
    "import scipy.io as sio\n",
    "\n",
    "import seaborn as sns\n",
    "\n",
    "import analysis_funcs as af\n",
    "import analysis_utils as autils\n",
    "import stats\n",
    "import exp_filepaths as ef\n",
    "\n",
    "bar_graph_kwargs = {'spacing': 1.0, 'sig_marker_size': 15}"
   ]
  },
  {
   "cell_type": "code",
   "execution_count": 4,
   "metadata": {},
   "outputs": [
    {
     "name": "stderr",
     "output_type": "stream",
     "text": [
      "/home/arjundd/anaconda3/envs/tf_36/lib/python3.6/site-packages/numpy/core/fromnumeric.py:2920: RuntimeWarning: Mean of empty slice.\n",
      "  out=out, **kwargs)\n",
      "/home/arjundd/anaconda3/envs/tf_36/lib/python3.6/site-packages/numpy/core/_methods.py:140: RuntimeWarning: Degrees of freedom <= 0 for slice\n",
      "  keepdims=keepdims)\n"
     ]
    },
    {
     "data": {
      "image/png": "[encoded data removed]",
      "text/plain": [
       "<Figure size 432x288 with 1 Axes>"
      ]
     },
     "metadata": {
      "needs_background": "light"
     },
     "output_type": "display_data"
    }
   ],
   "source": [
    "# volumetric architecture experiments\n",
    "VOLUME_2D = ef.VOLUME_2D\n",
    "VOLUME_2_5D_3 = ef.NDS_UNET_2_5D_3\n",
    "VOLUME_2_5D_5 = ef.NDS_UNET_2_5D_5\n",
    "VOLUME_2_5D_7 = ef.NDS_UNET_2_5D_7\n",
    "VOLUME_3D_4 = ef.VOLUME_3D_4\n",
    "VOLUME_3D_8 = ef.VOLUME_3D_8\n",
    "VOLUME_3D_16 = ef.VOLUME_3D_16\n",
    "VOLUME_3D_32 = ef.VOLUME_3D_32\n",
    "\n",
    "VOLUMES = {'filename': 'volume',\n",
    "           'keys': ['3D (4)', '3D (8)', '3D (16)', '3D (32)'],\n",
    "         #'keys': ['2D', '2.5D (3)', '2.5D (5)', '2.5D (7)', '3D (4)', '3D (8)', '3D (16)', '3D (32)'],\n",
    "         '2D': VOLUME_2D, '2.5D (3)': VOLUME_2_5D_3, '2.5D (5)': VOLUME_2_5D_5, '2.5D (7)': VOLUME_2_5D_7,\n",
    "          '3D (4)': VOLUME_3D_4, '3D (8)': VOLUME_3D_8, '3D (16)': VOLUME_3D_16, '3D (32)': VOLUME_3D_32}\n",
    "\n",
    "af.graph_slice_exp(VOLUMES, True, title='', show_error=False, ylim=[0.70, 0.925])"
   ]
  },
  {
   "cell_type": "code",
   "execution_count": null,
   "metadata": {},
   "outputs": [],
   "source": []
  }
 ],
 "metadata": {
  "kernelspec": {
   "display_name": "Python 3",
   "language": "python",
   "name": "python3"
  },
  "language_info": {
   "codemirror_mode": {
    "name": "ipython",
    "version": 3
   },
   "file_extension": ".py",
   "mimetype": "text/x-python",
   "name": "python",
   "nbconvert_exporter": "python",
   "pygments_lexer": "ipython3",
   "version": "3.6.2"
  }
 },
 "nbformat": 4,
 "nbformat_minor": 2
}
